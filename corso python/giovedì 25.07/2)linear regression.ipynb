{
 "cells": [
  {
   "cell_type": "markdown",
   "metadata": {},
   "source": [
    "# Partiamo dalla Regressione Lineare Semplice\n",
    "La regressione lineare semplice o a variabile singola è il caso più semplice di regressione lineare, poiché ha un'unica variabile indipendente, 𝐱 = 𝑥.\n",
    "\n",
    "La figura seguente illustra una regressione lineare semplice:\n",
    "\n",
    "<br>\n",
    "\n",
    "![grafico](./dati/img/grafico%20regressione%20lineare%20semplice.webp)\n",
    "\n",
    "\n",
    "Quando si implementa una regressione lineare semplice, in genere si inizia con un determinato insieme di coppie input-output (𝑥-𝑦). Queste coppie sono le tue osservazioni, mostrate come cerchi verdi nella figura. Ad esempio, l'osservazione più a sinistra ha l'input 𝑥 = 5 e l'output effettivo, o risposta, 𝑦 = 5. Quella successiva ha 𝑥 = 15 e 𝑦 = 20 e così via.\n",
    "\n",
    "La funzione di regressione stimata, rappresentata dalla linea nera, ha l'equazione 𝑓(𝑥) = 𝑏₀ + 𝑏₁𝑥. Il nostro obiettivo è calcolare i valori ottimali dei pesi previsti 𝑏₀ e 𝑏₁ che minimizzano l'SSR e determinano la funzione di regressione stimata.\n",
    "\n",
    "Il valore di 𝑏₀, chiamato anche intercetta , mostra il punto in cui la linea di regressione stimata incrocia l'asse 𝑦. È il valore della risposta stimata 𝑓(𝑥) per 𝑥 = 0. Il valore di 𝑏₁ determina la pendenza della linea di regressione stimata.\n",
    "\n",
    "Le risposte previste, visualizzate come quadrati rossi, sono i punti sulla linea di regressione che corrispondono ai valori di input. Ad esempio, per l'input 𝑥 = 5, la risposta prevista è 𝑓(5) = 8,33, che rappresenta il quadrato rosso più a sinistra.\n",
    "\n",
    "Le linee grigie tratteggiate verticali rappresentano i residui, che possono essere calcolati come 𝑦ᵢ - 𝑓(𝐱ᵢ) = 𝑦ᵢ - 𝑏₀ - 𝑏₁𝑥ᵢ per 𝑖 = 1, …, 𝑛. Sono le distanze tra i cerchi verdi e i quadrati rossi. Quando implementiamo la regressione lineare, stiamo effettivamente cercando di ridurre al minimo queste distanze e di rendere i quadrati rossi il più vicino possibile ai cerchi verdi predefiniti.\n",
    "\n",
    "### Ora andiamo a implementare la regressione lineare semplice con la libreria scikit-learn"
   ]
  },
  {
   "cell_type": "markdown",
   "metadata": {},
   "source": [
    "# Esistono cinque passaggi fondamentali quando si implementa la regressione lineare:\n",
    "\n",
    "1) Installare e importare i pacchetti e le classi di cui abbiamo bisogno.\n",
    "2) Fornire i dati con cui lavorare ed eventualmente eseguire le trasformazioni appropriate.\n",
    "3) Creare un modello di regressione e adattarlo ai dati esistenti.\n",
    "4) Controllare i risultati dell'adattamento del modello per sapere se il modello è soddisfacente.\n",
    "5) Applicare il modello per le previsioni."
   ]
  },
  {
   "cell_type": "markdown",
   "metadata": {},
   "source": [
    "### Passaggio 1: importa pacchetti e classi\n",
    "\n",
    "Il primo passo è installare e importare il pacchetto numpy e installare sklearn e importare la classe Linear Regression da sklearn.linear_model:"
   ]
  },
  {
   "cell_type": "code",
   "execution_count": null,
   "metadata": {},
   "outputs": [],
   "source": [
    "!pip install numpy scikit-learn matplotlib"
   ]
  },
  {
   "cell_type": "code",
   "execution_count": null,
   "metadata": {},
   "outputs": [],
   "source": [
    "import numpy as np\n",
    "import matplotlib.pyplot as plt\n",
    "from sklearn.linear_model import LinearRegression"
   ]
  },
  {
   "cell_type": "markdown",
   "metadata": {},
   "source": [
    "Ora abbiamo tutte le funzionalità necessarie per implementare la regressione lineare.\n",
    "\n",
    "Il tipo di dati fondamentale di NumPy è il tipo di array chiamato numpy.ndarray. Nel resto di questo esercizio utilizzeremo il termine array per fare riferimento a istanze del tipo numpy.ndarray.\n",
    "\n",
    "Utilizzeremo la classe sklearn.linear_model.LinearRegression per eseguire regressioni lineari fare previsioni di conseguenza."
   ]
  },
  {
   "cell_type": "markdown",
   "metadata": {},
   "source": [
    "### Passaggio 2: fornire i dati\n",
    "\n",
    "Il secondo passo è definire i dati con cui lavorare. Gli input (regressori, 𝑥) e l'output (risposta, 𝑦) dovrebbero essere array o oggetti simili. Questo è il modo più semplice per fornire dati per la regressione:"
   ]
  },
  {
   "cell_type": "code",
   "execution_count": null,
   "metadata": {},
   "outputs": [],
   "source": [
    "X = np.array([5, 15, 25, 35, 45, 55]).reshape((-1, 1))\n",
    "y = np.array([5, 20, 14, 32, 22, 38])"
   ]
  },
  {
   "cell_type": "markdown",
   "metadata": {},
   "source": [
    "Ora abbiamo due array: l'input, X e l'output, y. Utilizzeremo .reshape() perché questo array deve essere bidimensionale o, più precisamente, deve avere una colonna e tutte le righe necessarie . Questo è esattamente ciò che specifica l'argomento (-1, 1)di .reshape()."
   ]
  },
  {
   "cell_type": "code",
   "execution_count": null,
   "metadata": {},
   "outputs": [],
   "source": [
    "print(X)\n",
    "\n",
    "print(y)\n",
    "plt.scatter(X,y)\n",
    "plt.show()"
   ]
  },
  {
   "cell_type": "markdown",
   "metadata": {},
   "source": [
    "Come possiamo vedere, X ha due dimensioni, mentre y ha una sola dimensione."
   ]
  },
  {
   "cell_type": "markdown",
   "metadata": {},
   "source": [
    "### Passaggio 3: crea un modello e adattalo\n",
    "\n",
    "Il passaggio successivo consiste nel creare un modello di regressione lineare e adattarlo utilizzando i dati esistenti.\n",
    "\n",
    "Creiamo un'istanza della classe LinearRegression, che rappresenterà il modello di regressione:"
   ]
  },
  {
   "cell_type": "code",
   "execution_count": null,
   "metadata": {},
   "outputs": [],
   "source": [
    "model = LinearRegression()"
   ]
  },
  {
   "cell_type": "markdown",
   "metadata": {},
   "source": [
    "Questa istruzione crea la variabile model come istanza di LinearRegression. È possibile fornire diversi parametri facoltativi per LinearRegression:\n",
    "\n",
    "- fit_intercept è un booleano che, se True, decide di calcolare l'intercetta 𝑏₀ oppure, se False, la considera uguale a zero. Il valore predefinito è True.\n",
    "- normalize è un booleano che, se True, decide di normalizzare le variabili di input. Il valore predefinito è False, nel qual caso non normalizza le variabili di input.\n",
    "- copy_X è un booleano che decide se copiare ( True) o sovrascrivere le variabili di input ( False). È True per impostazione predefinita.\n",
    "- n_jobs è un numero intero o None. Rappresenta il numero di iterazioni utilizzate nel calcolo parallelo. Il valore predefinito è None, che di solito significa una iterazione. -1 significa utilizzare tutti i processori disponibili.\n",
    "\n",
    "Sopra abbiamo definito model utilizzando i valori predefiniti di tutti i parametri.\n",
    "\n",
    "È ora di iniziare a utilizzare il modello. \n",
    "#### Per prima cosa è necessario chiamare .fit() model:"
   ]
  },
  {
   "cell_type": "code",
   "execution_count": null,
   "metadata": {},
   "outputs": [],
   "source": [
    "model.fit(X, y)"
   ]
  },
  {
   "cell_type": "markdown",
   "metadata": {},
   "source": [
    "Con .fit(), calcoliamo i valori ottimali dei pesi 𝑏₀ e 𝑏₁, utilizzando l'input e l'output esistenti X e y, come argomenti. In altre parole, .fit() si adatta al modello . Restituisce self, che è la variabile model stessa."
   ]
  },
  {
   "cell_type": "markdown",
   "metadata": {},
   "source": [
    "### Passaggio 4: ottieni risultati\n",
    "\n",
    "Una volta adattato il modello, è possibile ottenere i risultati per verificare se il modello funziona in modo soddisfacente e per interpretarlo.\n",
    "\n",
    "È possibile ottenere il coefficiente di determinazione, 𝑅², con .score() chiamato su model:"
   ]
  },
  {
   "cell_type": "code",
   "execution_count": null,
   "metadata": {},
   "outputs": [],
   "source": [
    "r_sq = model.score(X, y)\n",
    "print(f\"coefficient of determination: {r_sq}\")"
   ]
  },
  {
   "cell_type": "markdown",
   "metadata": {},
   "source": [
    "Quando si applica .score(), gli argomenti sono anche il predittore X e la risposta y e il valore restituito è 𝑅².\n",
    "\n",
    "Gli attributi di model sono .intercept_, che rappresenta il coefficiente 𝑏₀, e .coef_, che rappresenta 𝑏₁:"
   ]
  },
  {
   "cell_type": "code",
   "execution_count": null,
   "metadata": {},
   "outputs": [],
   "source": [
    "print(f\"intercept: {model.intercept_}\")\n",
    "\n",
    "\n",
    "print(f\"slope: {model.coef_}\")"
   ]
  },
  {
   "cell_type": "markdown",
   "metadata": {},
   "source": [
    "<b>Nota</b>: in scikit-learn, per convenzione , un carattere di sottolineatura finale indica che un attributo è stimato. In questo esempio, .intercept_e .coef_sono valori stimati.\n",
    "\n",
    "Il valore di 𝑏₀ è circa 5,63. Ciò dimostra che il nostro modello prevede la risposta 5,63 quando 𝑥 è zero. Il valore 𝑏₁ = 0,54 significa che la risposta prevista aumenta di 0,54 quando 𝑥 viene aumentato di uno.\n",
    "\n",
    "Possiamo fornire y anche come un array bidimensionale. In questo caso, otterremo un risultato simile. Ecco come potrebbe apparire:"
   ]
  },
  {
   "cell_type": "code",
   "execution_count": null,
   "metadata": {},
   "outputs": [],
   "source": [
    "new_model = LinearRegression().fit(X, y.reshape((-1, 1)))\n",
    "print(f\"intercept: {new_model.intercept_}\")\n",
    "\n",
    "\n",
    "print(f\"slope: {new_model.coef_}\")"
   ]
  },
  {
   "cell_type": "markdown",
   "metadata": {},
   "source": [
    "### Passaggio 5: prevedere la risposta\n",
    "\n",
    "Una volta ottenuto un modello soddisfacente, è possibile utilizzarlo per previsioni con dati esistenti o nuovi. Per ottenere la risposta prevista, utilizzeremo .predict():"
   ]
  },
  {
   "cell_type": "code",
   "execution_count": null,
   "metadata": {},
   "outputs": [],
   "source": [
    "y_pred = model.predict(X)\n",
    "print(f\"predicted response:\\n{y_pred}\")"
   ]
  },
  {
   "cell_type": "markdown",
   "metadata": {},
   "source": [
    "Quando si applica .predict(), si passa il regressore come argomento e si ottiene la risposta prevista corrispondente. Questo è un modo quasi identico per prevedere la risposta:"
   ]
  },
  {
   "cell_type": "code",
   "execution_count": null,
   "metadata": {},
   "outputs": [],
   "source": [
    "y_pred = model.intercept_ + model.coef_ * X\n",
    "print(f\"predicted response:\\n{y_pred}\")"
   ]
  },
  {
   "cell_type": "markdown",
   "metadata": {},
   "source": [
    "In questo caso, moltiplichiamo ciascun elemento di X al prodotto di model.coef_ e model.intercept_.\n",
    "\n",
    "L'output qui differisce dall'esempio precedente solo nelle dimensioni. La risposta prevista è ora una matrice bidimensionale, mentre nel caso precedente aveva una dimensione.\n",
    "\n",
    "Se riduciamo il numero di dimensioni di X a uno, questi due approcci produrranno lo stesso risultato. Possiamo farlo sostituendo X con X.reshape(-1).\n",
    "\n",
    "In pratica, i modelli di regressione vengono spesso applicati per le previsioni. Ciò significa che è possibile utilizzare modelli adattati per calcolare gli output sulla base di nuovi input:"
   ]
  },
  {
   "cell_type": "code",
   "execution_count": null,
   "metadata": {},
   "outputs": [],
   "source": [
    "x_new = np.arange(5).reshape((-1, 1))\n",
    "print(x_new)\n",
    "\n",
    "y_new = model.predict(x_new)\n",
    "print(y_new)"
   ]
  },
  {
   "cell_type": "markdown",
   "metadata": {},
   "source": [
    "Qui .predict() viene applicato al nuovo regressore x_new che produce la risposta y_new. Questo esempio utilizza arange() da numpy per generare un array con gli elementi da 0, compreso, fino a 5 escluso, ovvero 0, 1, 2, 3 e 4."
   ]
  },
  {
   "cell_type": "markdown",
   "metadata": {},
   "source": [
    "### Finora non abbiamo tenuto conto della precisione del modello\n",
    "Nel Machine Learning creiamo infatti modelli per prevedere l'esito di determinati eventi, ma come facciamo a capire con i dati in nostro possesso se il modello funziona correttamente?\n",
    "\n",
    "Per misurare se il modello è sufficientemente buono, possiamo utilizzare un metodo chiamato Train/Test.\n",
    "\n",
    "### Cos'è Train/Test\n",
    "Train/Test è un metodo per misurare la precisione del modello.\n",
    "\n",
    "Si chiama Train/Test perché dividiamo il set di dati in due set: un set di training e un set di test.\n",
    "\n",
    "Per convenzione 80% per la formazione e 20% per i test, quindi: \n",
    "\n",
    "- Addestriamo il modello utilizzando il set di training;\n",
    "\n",
    "- Testiamo il modello utilizzando il set di test.\n",
    "\n",
    "\n",
    "\n",
    "### Quindi ripartiamo nel creare i nostri set di dati:\n"
   ]
  },
  {
   "cell_type": "code",
   "execution_count": null,
   "metadata": {},
   "outputs": [],
   "source": [
    "np.random.seed(2)\n",
    "\n",
    "\"\"\"\n",
    "numpy.random.seed è una funzione nella libreria NumPy che imposta il seed per generare numeri casuali. \n",
    "Specificando un valore seed, la funzione garantisce che la sequenza di numeri casuali generati rimanga la stessa in più esecuzioni, \n",
    "fornendo un comportamento deterministico e consentendo la riproducibilità nella generazione di numeri casuali.\n",
    "\"\"\"\n",
    "#Il nostro set di dati possiamo considerarlo come l'esempio di 100 clienti in un negozio e le loro abitudini di acquisto.\n",
    "\n",
    "#L'asse X rappresenta il numero di minuti prima di effettuare un acquisto.\n",
    "\n",
    "#L'asse y rappresenta la quantità di denaro spesa per l'acquisto.\n",
    "\n",
    "X = np.random.normal(3, 1, 100)\n",
    "y = np.random.normal(150, 40, 100) / X\n",
    "\n",
    "plt.scatter(X, y)\n",
    "plt.show()"
   ]
  },
  {
   "cell_type": "markdown",
   "metadata": {},
   "source": [
    "Suddividiamo in Train/Test <br>\n",
    "Il set di addestramento dovrebbe essere una selezione casuale dell'80% dei dati originali.\n",
    "\n",
    "Il set di test dovrebbe essere il restante 20%."
   ]
  },
  {
   "cell_type": "code",
   "execution_count": null,
   "metadata": {},
   "outputs": [],
   "source": [
    "train_X = X[:80]\n",
    "train_y = y[:80]\n",
    "\n",
    "test_X = X[80:]\n",
    "test_y = y[80:]"
   ]
  },
  {
   "cell_type": "markdown",
   "metadata": {},
   "source": [
    "o in alternativa possiamo usare la funzione integrata di scikit-learn"
   ]
  },
  {
   "cell_type": "code",
   "execution_count": null,
   "metadata": {},
   "outputs": [],
   "source": [
    "from sklearn.model_selection import train_test_split\n",
    "X_train, X_test, y_train, y_test = train_test_split(\n",
    "    X, y)\n"
   ]
  },
  {
   "cell_type": "markdown",
   "metadata": {},
   "source": [
    "### Attributi opzionali\n",
    "- test_size: float o int, default=Nessuno\n",
    "Se float, dovrebbe essere compreso tra 0,0 e 1,0 e rappresentare la proporzione del set di dati da includere nella suddivisione del test. Se int, rappresenta il numero assoluto di campioni di prova. Se Nessuno, il valore viene impostato sul complemento della dimensione del train. Se train_size è anche None, verrà impostato su 0,25.\n",
    "\n",
    "- train_size: float o int, default=Nessuno\n",
    "Se float, deve essere compreso tra 0,0 e 1,0 e rappresentare la proporzione del set di dati da includere nella suddivisione del train. Se int, rappresenta il numero assoluto di campioni di train. Se Nessuno, il valore viene impostato automaticamente sul complemento della dimensione del test.\n",
    "\n",
    "- random_state: int, istanza RandomState o None, default=None\n",
    "Controlla il mescolamento applicato ai dati prima di applicare la suddivisione. Passa un int per un output riproducibile tra più chiamate di funzione.\n",
    "\n",
    "- shuffle: bool, impostazione predefinita=Vero\n",
    "Se mescolare o meno i dati prima di dividerli. Se shuffle=False allora la stratificazione deve essere None.\n",
    "\n",
    "- stratify: array, default=Nessuno\n",
    "Se non è impostato su Nessuno, i dati vengono suddivisi in modo stratificato, utilizzandolo come etichetta della classe. "
   ]
  },
  {
   "cell_type": "markdown",
   "metadata": {},
   "source": [
    "### Ora visualizziamo il set di allenamento e il set di test"
   ]
  },
  {
   "cell_type": "code",
   "execution_count": null,
   "metadata": {},
   "outputs": [],
   "source": [
    "plt.scatter(X_train, y_train)\n",
    "plt.show()"
   ]
  },
  {
   "cell_type": "code",
   "execution_count": null,
   "metadata": {},
   "outputs": [],
   "source": [
    "plt.scatter(X_test, y_test)\n",
    "plt.show()"
   ]
  },
  {
   "cell_type": "markdown",
   "metadata": {},
   "source": [
    "Assomigliano molto al set originale quindi possiamo riternerci soddisfatti.\n",
    "### Ora procediamo a:\n",
    "- Allenare il modello con i set di allenamento;\n",
    "- Usare il modello per prevedere in base ai dati di allenamento il target di allenamento;\n",
    "- Confrontare le previsioni con i dati reali.\n"
   ]
  },
  {
   "cell_type": "code",
   "execution_count": null,
   "metadata": {},
   "outputs": [],
   "source": [
    "model = LinearRegression()\n",
    "model.fit(X_train.reshape(-1, 1), y_train)\n",
    "y_pred = model.predict(X_train.reshape(-1, 1))\n",
    "errore = y_train - y_pred\n",
    "media_errore = errore.mean()\n",
    "mediana_errore = np.median(errore)\n",
    "print(f\"media: {media_errore}, mediana: {mediana_errore}\")\n",
    "\n",
    "\n"
   ]
  },
  {
   "cell_type": "markdown",
   "metadata": {},
   "source": [
    "### Ora facciamo la stessa cosa con i dati di test"
   ]
  },
  {
   "cell_type": "code",
   "execution_count": null,
   "metadata": {},
   "outputs": [],
   "source": [
    "y_pred_test = model.predict(X_test.reshape(-1, 1))\n",
    "errore = y_test - y_pred_test\n",
    "media_errore = errore.mean()\n",
    "mediana_errore = np.median(errore)\n",
    "print(f\"media: {media_errore}, mediana: {mediana_errore}\")"
   ]
  },
  {
   "cell_type": "markdown",
   "metadata": {},
   "source": [
    "### Scikit learn ci permette anche di calcolare l'errore quadratico medio di cui abbiamo parlato in precedenza"
   ]
  },
  {
   "cell_type": "code",
   "execution_count": null,
   "metadata": {},
   "outputs": [],
   "source": [
    "from sklearn.metrics import mean_squared_error\n",
    "\n",
    "error_train = mean_squared_error(y_train, y_pred)\n",
    "error_test = mean_squared_error(y_test, y_pred_test)\n",
    "print(f\"test: {error_train}, train: {error_train}\")\n"
   ]
  },
  {
   "cell_type": "markdown",
   "metadata": {},
   "source": [
    "### Ma anche di visualizzazire l'errore di previsione di un modello di regressione.\n",
    "\n",
    "Questo strumento può visualizzare “residui rispetto a quelli previsti” o “effettivi rispetto a quelli previsti” utilizzando grafici a dispersione per valutare qualitativamente il comportamento di un regressore, preferibilmente su punti dati non disponibili."
   ]
  },
  {
   "cell_type": "code",
   "execution_count": null,
   "metadata": {},
   "outputs": [],
   "source": [
    "from sklearn.metrics import PredictionErrorDisplay\n",
    "display = PredictionErrorDisplay(y_true=y_train, y_pred=y_pred)\n",
    "display.plot()\n",
    "plt.show()"
   ]
  },
  {
   "cell_type": "code",
   "execution_count": null,
   "metadata": {},
   "outputs": [],
   "source": [
    "display = PredictionErrorDisplay(y_true=y_test, y_pred=y_pred_test)\n",
    "display.plot()\n",
    "plt.show()"
   ]
  },
  {
   "cell_type": "markdown",
   "metadata": {},
   "source": [
    "## Primo Esempio pratico\n",
    "### L'esempio seguente utilizza solo la prima caratteristica di un dataset sul diabete fornito da scikit learn per testare un algoritmo di machine learning su dati reali.\n",
    "La linea retta vista nel grafico, mostra come la regressione lineare tenta di tracciare una linea retta che minimizzi al meglio la somma residua dei quadrati tra le risposte osservate nel set di dati e le risposte previste dall'approssimazione lineare.\n",
    "\n",
    "Vengono inoltre calcolati i coefficienti, la somma residua dei quadrati e il coefficiente di determinazione."
   ]
  },
  {
   "cell_type": "code",
   "execution_count": null,
   "metadata": {},
   "outputs": [],
   "source": [
    "import matplotlib.pyplot as plt\n",
    "import numpy as np\n",
    "\n",
    "from sklearn import datasets, linear_model\n",
    "from sklearn.metrics import mean_squared_error, r2_score\n",
    "\n",
    "# carichiamo il dataset\n",
    "diabetes_X, diabetes_y = datasets.load_diabetes(return_X_y=True)\n",
    "\n",
    "# utilizziamo una sola caratteristicha\n",
    "diabetes_X = diabetes_X[:, np.newaxis, 2]\n",
    "\n",
    "# dividiamo i dati in train e test\n",
    "diabetes_X_train = diabetes_X[:-20]\n",
    "diabetes_X_test = diabetes_X[-20:]\n",
    "\n",
    "# dividiamo le etichette in train e test\n",
    "diabetes_y_train = diabetes_y[:-20]\n",
    "diabetes_y_test = diabetes_y[-20:]\n",
    "\n",
    "# Creaiamo l'oggetto del modello\n",
    "regr = linear_model.LinearRegression()\n",
    "\n",
    "# Alleniamo il modello sul set di allenamento\n",
    "regr.fit(diabetes_X_train, diabetes_y_train)\n",
    "\n",
    "# Facciamo una predizione sui dati usando i dati di test\n",
    "diabetes_y_pred = regr.predict(diabetes_X_test)\n",
    "\n",
    "# Stampiamo il coefficente\n",
    "print(\"Coefficients: \\n\", regr.coef_)\n",
    "# L'errore quadratico medio \n",
    "print(\"Mean squared error: %.2f\" % mean_squared_error(diabetes_y_test, diabetes_y_pred))\n",
    "# Il coefficiente di determinazione: 1 è la previsione perfetta\n",
    "print(\"Coefficient of determination: %.2f\" % r2_score(diabetes_y_test, diabetes_y_pred))\n",
    "\n",
    "# Creiamo i grafici\n",
    "plt.scatter(diabetes_X_test, diabetes_y_test, color=\"black\")\n",
    "plt.plot(diabetes_X_test, diabetes_y_pred, color=\"blue\", linewidth=3)\n",
    "\n",
    "plt.xticks(())\n",
    "plt.yticks(())\n",
    "\n",
    "plt.show()"
   ]
  },
  {
   "cell_type": "markdown",
   "metadata": {},
   "source": [
    "## Primo Esercizio\n",
    "Utilizzate la linear regression per analizzare il dataframe di esempio in cui abbiamo le Calorie bruciate in base al peso della persona che fa esercizio fisico con la montain bike, allenate l'algoritmo, testatelo e poi realizzate un grafico"
   ]
  },
  {
   "cell_type": "markdown",
   "metadata": {},
   "source": [
    "## Secondo Esercizio\n",
    "Utilizzate la linear regression per analizzare il dataframe di esempio con Fabbisogno calorico giornaliero di un uomo in base alla sua età, allenate l'algoritmo, testatelo e poi realizzate un grafico."
   ]
  }
 ],
 "metadata": {
  "kernelspec": {
   "display_name": "Python 3",
   "language": "python",
   "name": "python3"
  },
  "language_info": {
   "codemirror_mode": {
    "name": "ipython",
    "version": 3
   },
   "file_extension": ".py",
   "mimetype": "text/x-python",
   "name": "python",
   "nbconvert_exporter": "python",
   "pygments_lexer": "ipython3",
   "version": "3.11.7"
  }
 },
 "nbformat": 4,
 "nbformat_minor": 2
}
